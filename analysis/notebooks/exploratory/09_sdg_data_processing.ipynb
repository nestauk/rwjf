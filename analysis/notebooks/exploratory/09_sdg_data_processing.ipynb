{
 "cells": [
  {
   "cell_type": "markdown",
   "metadata": {},
   "source": [
    "SDG Labelling Data Preparation\n",
    "==============================\n",
    "\n",
    "Cleaning of data scraped from [Partnerships for the SDGs](https://sustainabledevelopment.un.org/partnership/browse/) and [RELX Group SDG Resource Centre](https://sdgresources.relx.com/articles)."
   ]
  },
  {
   "cell_type": "code",
   "execution_count": 1,
   "metadata": {},
   "outputs": [],
   "source": [
    "%load_ext line_profiler\n",
    "%load_ext autoreload\n",
    "%autoreload 2"
   ]
  },
  {
   "cell_type": "code",
   "execution_count": 160,
   "metadata": {},
   "outputs": [],
   "source": [
    "import os\n",
    "import re\n",
    "import ast\n",
    "import json\n",
    "import string\n",
    "\n",
    "import pandas as pd\n",
    "import numpy as np\n",
    "import matplotlib.pyplot as plt\n",
    "\n",
    "from collections import defaultdict, Counter\n",
    "from datetime import datetime, date\n",
    "\n",
    "from analysis.src.data.readnwrite import get_data_dir\n",
    "from analysis.src.data.data_utilities import flatten, eval_column, grouper\n",
    "\n",
    "pd.options.display.max_columns = 99"
   ]
  },
  {
   "cell_type": "code",
   "execution_count": 5,
   "metadata": {},
   "outputs": [],
   "source": [
    "%matplotlib inline\n",
    "\n",
    "# Paths\n",
    "# Get the top path\n",
    "data_path = get_data_dir()\n",
    "\n",
    "# Create the path for external data\n",
    "ext_data = os.path.join(data_path, 'external')\n",
    "# Raw data\n",
    "raw_data = os.path.join(data_path, 'raw')\n",
    "# And external data\n",
    "proc_data = os.path.join(data_path, 'processed')\n",
    "# And interim data\n",
    "inter_data = os.path.join(data_path, 'interim')\n",
    "# And figures\n",
    "fig_path = os.path.join(data_path, 'figures')\n",
    "\n",
    "# Get date for saving files\n",
    "today = datetime.utcnow()\n",
    "\n",
    "today_str = \"_\".join([str(x) for x in [today.year,today.month,today.day]])"
   ]
  },
  {
   "cell_type": "markdown",
   "metadata": {},
   "source": [
    "## 1. Load Data\n",
    "\n",
    "We have a raw dataset from each site that was scraped to load."
   ]
  },
  {
   "cell_type": "code",
   "execution_count": 15,
   "metadata": {},
   "outputs": [],
   "source": [
    "partnernship_df = pd.read_csv(os.path.join(raw_data, 'sdg_partnership_projects_scraped.csv'))\n",
    "relx_df = pd.read_json(os.path.join(raw_data, 'sdg_relx_articles.json'))"
   ]
  },
  {
   "cell_type": "code",
   "execution_count": 11,
   "metadata": {},
   "outputs": [
    {
     "data": {
      "text/html": [
       "<div>\n",
       "<style scoped>\n",
       "    .dataframe tbody tr th:only-of-type {\n",
       "        vertical-align: middle;\n",
       "    }\n",
       "\n",
       "    .dataframe tbody tr th {\n",
       "        vertical-align: top;\n",
       "    }\n",
       "\n",
       "    .dataframe thead th {\n",
       "        text-align: right;\n",
       "    }\n",
       "</style>\n",
       "<table border=\"1\" class=\"dataframe\">\n",
       "  <thead>\n",
       "    <tr style=\"text-align: right;\">\n",
       "      <th></th>\n",
       "      <th>content</th>\n",
       "      <th>goals</th>\n",
       "      <th>project_number</th>\n",
       "      <th>project_url</th>\n",
       "      <th>timeframe</th>\n",
       "      <th>title</th>\n",
       "    </tr>\n",
       "  </thead>\n",
       "  <tbody>\n",
       "    <tr>\n",
       "      <th>0</th>\n",
       "      <td>\\n\\n\\nThe European PVC industry commits to add...</td>\n",
       "      <td>['1', '3', '4', '5', '6', '7', '8', '9', '12',...</td>\n",
       "      <td>91</td>\n",
       "      <td>http://www.vinylplus.eu/</td>\n",
       "      <td>Time-frame: 2011-06-22 - 2020-12-31</td>\n",
       "      <td>VinylPlus</td>\n",
       "    </tr>\n",
       "    <tr>\n",
       "      <th>1</th>\n",
       "      <td>\\n\\n\\nMore than one billion people worldwide, ...</td>\n",
       "      <td>['7']</td>\n",
       "      <td>93</td>\n",
       "      <td>NaN</td>\n",
       "      <td>Time-frame: 2012 - 2015-12-31</td>\n",
       "      <td>Min-E Access: Minimum Electricity Access</td>\n",
       "    </tr>\n",
       "  </tbody>\n",
       "</table>\n",
       "</div>"
      ],
      "text/plain": [
       "                                             content  \\\n",
       "0  \\n\\n\\nThe European PVC industry commits to add...   \n",
       "1  \\n\\n\\nMore than one billion people worldwide, ...   \n",
       "\n",
       "                                               goals  project_number  \\\n",
       "0  ['1', '3', '4', '5', '6', '7', '8', '9', '12',...              91   \n",
       "1                                              ['7']              93   \n",
       "\n",
       "                project_url                            timeframe  \\\n",
       "0  http://www.vinylplus.eu/  Time-frame: 2011-06-22 - 2020-12-31   \n",
       "1                       NaN        Time-frame: 2012 - 2015-12-31   \n",
       "\n",
       "                                      title  \n",
       "0                                 VinylPlus  \n",
       "1  Min-E Access: Minimum Electricity Access  "
      ]
     },
     "execution_count": 11,
     "metadata": {},
     "output_type": "execute_result"
    }
   ],
   "source": [
    "partnernship_df.head(2)"
   ]
  },
  {
   "cell_type": "code",
   "execution_count": 12,
   "metadata": {},
   "outputs": [
    {
     "data": {
      "text/html": [
       "<div>\n",
       "<style scoped>\n",
       "    .dataframe tbody tr th:only-of-type {\n",
       "        vertical-align: middle;\n",
       "    }\n",
       "\n",
       "    .dataframe tbody tr th {\n",
       "        vertical-align: top;\n",
       "    }\n",
       "\n",
       "    .dataframe thead th {\n",
       "        text-align: right;\n",
       "    }\n",
       "</style>\n",
       "<table border=\"1\" class=\"dataframe\">\n",
       "  <thead>\n",
       "    <tr style=\"text-align: right;\">\n",
       "      <th></th>\n",
       "      <th>article_url</th>\n",
       "      <th>authors</th>\n",
       "      <th>citation</th>\n",
       "      <th>content</th>\n",
       "      <th>publisher</th>\n",
       "      <th>sdg_goals</th>\n",
       "      <th>tags</th>\n",
       "      <th>title</th>\n",
       "    </tr>\n",
       "  </thead>\n",
       "  <tbody>\n",
       "    <tr>\n",
       "      <th>0</th>\n",
       "      <td>https://www.sciencedirect.com/science/article/...</td>\n",
       "      <td>Gerald G. Singh, Andrés M. Cisneros-Montemayor...</td>\n",
       "      <td>Marine Policy Volume 93, July 2018, Pages 223-231</td>\n",
       "      <td>Achieving the United Nations’ 17 Sustainable D...</td>\n",
       "      <td>Elsevier</td>\n",
       "      <td>[14]</td>\n",
       "      <td>[Oceans &amp; Seas, Small Island Developing States]</td>\n",
       "      <td>A rapid assessment of co-benefits and trade-of...</td>\n",
       "    </tr>\n",
       "    <tr>\n",
       "      <th>1</th>\n",
       "      <td>https://www.sciencedirect.com/science/article/...</td>\n",
       "      <td>Anthony Y.Ku, Johnathan Loudis, Steven J. Duclos</td>\n",
       "      <td>Sustainable Materials and Technologies Volume ...</td>\n",
       "      <td>As the technologies we use as a society have a...</td>\n",
       "      <td>Elsevier</td>\n",
       "      <td>[9]</td>\n",
       "      <td>[Chemicals and waste, Industry, Supply chain, ...</td>\n",
       "      <td>The impact of technological innovation on crit...</td>\n",
       "    </tr>\n",
       "  </tbody>\n",
       "</table>\n",
       "</div>"
      ],
      "text/plain": [
       "                                         article_url  \\\n",
       "0  https://www.sciencedirect.com/science/article/...   \n",
       "1  https://www.sciencedirect.com/science/article/...   \n",
       "\n",
       "                                             authors  \\\n",
       "0  Gerald G. Singh, Andrés M. Cisneros-Montemayor...   \n",
       "1   Anthony Y.Ku, Johnathan Loudis, Steven J. Duclos   \n",
       "\n",
       "                                            citation  \\\n",
       "0  Marine Policy Volume 93, July 2018, Pages 223-231   \n",
       "1  Sustainable Materials and Technologies Volume ...   \n",
       "\n",
       "                                             content publisher sdg_goals  \\\n",
       "0  Achieving the United Nations’ 17 Sustainable D...  Elsevier      [14]   \n",
       "1  As the technologies we use as a society have a...  Elsevier       [9]   \n",
       "\n",
       "                                                tags  \\\n",
       "0    [Oceans & Seas, Small Island Developing States]   \n",
       "1  [Chemicals and waste, Industry, Supply chain, ...   \n",
       "\n",
       "                                               title  \n",
       "0  A rapid assessment of co-benefits and trade-of...  \n",
       "1  The impact of technological innovation on crit...  "
      ]
     },
     "execution_count": 12,
     "metadata": {},
     "output_type": "execute_result"
    }
   ],
   "source": [
    "relx_df.head(2)"
   ]
  },
  {
   "cell_type": "markdown",
   "metadata": {},
   "source": [
    "## 2. Cleaning\n",
    "\n",
    "### 2.1 Partnership Data"
   ]
  },
  {
   "cell_type": "markdown",
   "metadata": {},
   "source": [
    "#### Goals"
   ]
  },
  {
   "cell_type": "code",
   "execution_count": 151,
   "metadata": {},
   "outputs": [],
   "source": [
    "goals_partner = eval_column(partnernship_df, 'goals')"
   ]
  },
  {
   "cell_type": "code",
   "execution_count": 152,
   "metadata": {},
   "outputs": [],
   "source": [
    "goals_binary_partner = []\n",
    "for gp in goals_partner:\n",
    "    goals_binary = np.zeros(17).astype('int8')\n",
    "    for i in gp:\n",
    "        goals_binary[int(i) - 1] = 1\n",
    "    goals_binary_partner.append(goals_binary)\n",
    "\n",
    "ohe_goals_partner = pd.DataFrame(goals_binary_partner)\n",
    "ohe_goals_partner.columns = ['goal_{}'.format(i + 1) for i in range(17)]"
   ]
  },
  {
   "cell_type": "code",
   "execution_count": 153,
   "metadata": {},
   "outputs": [
    {
     "data": {
      "text/html": [
       "<div>\n",
       "<style scoped>\n",
       "    .dataframe tbody tr th:only-of-type {\n",
       "        vertical-align: middle;\n",
       "    }\n",
       "\n",
       "    .dataframe tbody tr th {\n",
       "        vertical-align: top;\n",
       "    }\n",
       "\n",
       "    .dataframe thead th {\n",
       "        text-align: right;\n",
       "    }\n",
       "</style>\n",
       "<table border=\"1\" class=\"dataframe\">\n",
       "  <thead>\n",
       "    <tr style=\"text-align: right;\">\n",
       "      <th></th>\n",
       "      <th>goal_1</th>\n",
       "      <th>goal_2</th>\n",
       "      <th>goal_3</th>\n",
       "      <th>goal_4</th>\n",
       "      <th>goal_5</th>\n",
       "      <th>goal_6</th>\n",
       "      <th>goal_7</th>\n",
       "      <th>goal_8</th>\n",
       "      <th>goal_9</th>\n",
       "      <th>goal_10</th>\n",
       "      <th>goal_11</th>\n",
       "      <th>goal_12</th>\n",
       "      <th>goal_13</th>\n",
       "      <th>goal_14</th>\n",
       "      <th>goal_15</th>\n",
       "      <th>goal_16</th>\n",
       "      <th>goal_17</th>\n",
       "    </tr>\n",
       "  </thead>\n",
       "  <tbody>\n",
       "    <tr>\n",
       "      <th>0</th>\n",
       "      <td>1</td>\n",
       "      <td>0</td>\n",
       "      <td>1</td>\n",
       "      <td>1</td>\n",
       "      <td>1</td>\n",
       "      <td>1</td>\n",
       "      <td>1</td>\n",
       "      <td>1</td>\n",
       "      <td>1</td>\n",
       "      <td>0</td>\n",
       "      <td>0</td>\n",
       "      <td>1</td>\n",
       "      <td>1</td>\n",
       "      <td>0</td>\n",
       "      <td>0</td>\n",
       "      <td>0</td>\n",
       "      <td>1</td>\n",
       "    </tr>\n",
       "  </tbody>\n",
       "</table>\n",
       "</div>"
      ],
      "text/plain": [
       "   goal_1  goal_2  goal_3  goal_4  goal_5  goal_6  goal_7  goal_8  goal_9  \\\n",
       "0       1       0       1       1       1       1       1       1       1   \n",
       "\n",
       "   goal_10  goal_11  goal_12  goal_13  goal_14  goal_15  goal_16  goal_17  \n",
       "0        0        0        1        1        0        0        0        1  "
      ]
     },
     "execution_count": 153,
     "metadata": {},
     "output_type": "execute_result"
    }
   ],
   "source": [
    "ohe.head(1)"
   ]
  },
  {
   "cell_type": "markdown",
   "metadata": {},
   "source": [
    "#### Content"
   ]
  },
  {
   "cell_type": "code",
   "execution_count": 35,
   "metadata": {},
   "outputs": [],
   "source": [
    "content_partnership = list(partnernship_df['content'].values)"
   ]
  },
  {
   "cell_type": "code",
   "execution_count": 50,
   "metadata": {},
   "outputs": [
    {
     "data": {
      "text/plain": [
       "'\\n\\n\\nThe European PVC industry commits to address five key challenges:- Work towards the more efficient management of PVC throughout its life cycle.- Help to ensure that persistent organic compounds do not accumulate in nature and that other emissions are reduced. - Review the use of PVC additives and move towards more sustainable additives systems.- Help to minimize climate impacts through reducing energy and raw material use, potentially endeavoring to switch to renewable sources and promoting sustainable innovation.- Continue to build sustainability awareness across the value chain and external stakeholders.\\n \\n\\n \\n\\n\\n\\n\\n\\n\\nIn line with the Agenda 21 chapter 30 Strengthening the role of business and industry, the VinylPlus Voluntary Commitment has been developed bottom up with an open process of stakeholder dialogue. Five key sustainable development challenges have been identified for PVC, based on The Natural Step System Conditions for a Sustainable Society. VinylPlus considers the dialogue with all of its stakeholders and the involvement of an NGO as critical external friend a key factor for success.Specific Task Forces, composed of internal and external experts, provide guidelines and define approach and implementation tools to achieve the set targets.In this regard, it is of paramount importance a cradle to grave approach, involving the entire upstream and downstream chain from raw-material production to post-consumer waste. Sustainable consumption and production are only achievable looking at the entire life cycle of product and actively involving SMEs.With reference to the chapter V of JPOI, VinylPlus is cooperating with the EU new members and trade unions with the objective of raising health, safety, and environmental standards to higher levels and to harmonize sustainability goals. Furthermore, VinylPlus will engage in efforts to globalize the approach by encouraging similar voluntary initiatives elsewhere in the world.\\n\\n\\n\\n\\n\\n\\nAs part of its commitment to promote its approach across the PVC industry worldwide, VinylPlus actively shares experience, knowledge and best practices with the other regional PVC associations at the global level in the bi-annual meetings of the GVC (Global Vinyl Council), as well as in other relevant conferences and events.  \\n\\n\\n\\n\\n\\n\\nVinylPlus is managed by a comprehensive Board representing all European PVC industry sectors (resin and additives producers, plastics manufacturers).A Monitoring Committee guarantees an independent evaluation of the initiatives undertaken in the framework of the Voluntary Commitment and gives guidance and advice. Open to external stakeholders, the Committee currently includes representatives from the European Commission, the European Parliament, trade unions and consumer associations, as well as representatives from the European PVC industry. The Monitoring Committee plays a fundamental role in ensuring VinylPlus’ transparency, participation and accountability.\\n\\n\\n\\n\\n\\nThe European PVC industry value chain represented by the following four Associations: ECVM The European Council of Vinyl Manufacturers (ECVM The European Council of Vinyl Manufacturers); EuPC  The European Plastics Converters (The European Plastics Converters); ESPA The European Stabiliser Producers Association (The European Stabiliser); European Plasticisers, former ECPI The European Council for Plasticisers and Intermediates (European Plasticisers).\\r\\nOpenness, transparency and accountability of VinylPlus are guaranteed by an independent Monitoring Committee composed of representatives from the European Commission, the European Parliament, trade unions and consumer associations, as well as representatives of the European PVC industry. A Progress Report audited by independent sources is published every year. \\n\\n'"
      ]
     },
     "execution_count": 50,
     "metadata": {},
     "output_type": "execute_result"
    }
   ],
   "source": [
    "content_partnership[0]"
   ]
  },
  {
   "cell_type": "markdown",
   "metadata": {},
   "source": [
    "\n",
    "Looks like the main text cleaning is removing new lines etc."
   ]
  },
  {
   "cell_type": "code",
   "execution_count": 55,
   "metadata": {},
   "outputs": [],
   "source": [
    "content_partnership = [cp.replace('\\n', ' ').replace('\\t', ' ').replace('\\r', ' ') for cp in content_partnership]\n",
    "content_partnership = [re.sub(' +', ' ', cp).strip() for cp in content_partnership]"
   ]
  },
  {
   "cell_type": "markdown",
   "metadata": {},
   "source": [
    "### Date"
   ]
  },
  {
   "cell_type": "code",
   "execution_count": 66,
   "metadata": {},
   "outputs": [],
   "source": [
    "tf = partnernship_df['timeframe'].values[0]"
   ]
  },
  {
   "cell_type": "code",
   "execution_count": 138,
   "metadata": {},
   "outputs": [],
   "source": [
    "# This doesn't work...\n",
    "# I stopped trying when I found the date '1/2///2/0/1/9'...\n",
    "\n",
    "def parse_timeframe(tf):\n",
    "    start, end = tf.split(' - ')[:]\n",
    "    start = start.split(': ')[1]\n",
    "    \n",
    "    start = start.replace(',', ', ')\n",
    "    end = end.replace(',', ', ')\n",
    "    \n",
    "    if '/' in start:\n",
    "        start = start.split('/')\n",
    "        if len(start[-1]) == 2:\n",
    "            start[-1] = '20' + start[-1]\n",
    "        start = '/'.join(end)\n",
    "    if '/' in end:\n",
    "        print(start, end)\n",
    "        end = end.split('/')\n",
    "        if len(end[-1]) == 2:\n",
    "            end[-1] = '20' + end[-1]\n",
    "        end = '/'.join(end)\n",
    "        print(start, end)\n",
    "    if (end == 'ongoing') | (end == '-'):\n",
    "        end = date(year=2030, month=1, day=1)\n",
    "        start = pd.to_datetime(start).date()\n",
    "    else:\n",
    "        start = pd.to_datetime(start).date() \n",
    "        end = pd.to_datetime(end).date()\n",
    "    return start, end"
   ]
  },
  {
   "cell_type": "markdown",
   "metadata": {},
   "source": [
    "### 2.2 RELX Data\n",
    "\n",
    "#### Goals"
   ]
  },
  {
   "cell_type": "code",
   "execution_count": 142,
   "metadata": {},
   "outputs": [],
   "source": [
    "goals_relx = relx_df['sdg_goals'].values"
   ]
  },
  {
   "cell_type": "code",
   "execution_count": 149,
   "metadata": {},
   "outputs": [],
   "source": [
    "goals_binary_relx = []\n",
    "for gp in goals_relx:\n",
    "    goals_binary = np.zeros(17).astype('int8')\n",
    "    for i in gp:\n",
    "        goals_binary[int(i) - 1] = 1\n",
    "    goals_binary_relx.append(goals_binary)\n",
    "\n",
    "ohe_goals_relx = pd.DataFrame(goals_binary_relx)\n",
    "ohe_goals_relx.columns = ['goal_{}'.format(i + 1) for i in range(17)]"
   ]
  },
  {
   "cell_type": "code",
   "execution_count": 150,
   "metadata": {},
   "outputs": [
    {
     "data": {
      "text/html": [
       "<div>\n",
       "<style scoped>\n",
       "    .dataframe tbody tr th:only-of-type {\n",
       "        vertical-align: middle;\n",
       "    }\n",
       "\n",
       "    .dataframe tbody tr th {\n",
       "        vertical-align: top;\n",
       "    }\n",
       "\n",
       "    .dataframe thead th {\n",
       "        text-align: right;\n",
       "    }\n",
       "</style>\n",
       "<table border=\"1\" class=\"dataframe\">\n",
       "  <thead>\n",
       "    <tr style=\"text-align: right;\">\n",
       "      <th></th>\n",
       "      <th>goal_1</th>\n",
       "      <th>goal_2</th>\n",
       "      <th>goal_3</th>\n",
       "      <th>goal_4</th>\n",
       "      <th>goal_5</th>\n",
       "      <th>goal_6</th>\n",
       "      <th>goal_7</th>\n",
       "      <th>goal_8</th>\n",
       "      <th>goal_9</th>\n",
       "      <th>goal_10</th>\n",
       "      <th>goal_11</th>\n",
       "      <th>goal_12</th>\n",
       "      <th>goal_13</th>\n",
       "      <th>goal_14</th>\n",
       "      <th>goal_15</th>\n",
       "      <th>goal_16</th>\n",
       "      <th>goal_17</th>\n",
       "    </tr>\n",
       "  </thead>\n",
       "  <tbody>\n",
       "    <tr>\n",
       "      <th>0</th>\n",
       "      <td>0</td>\n",
       "      <td>0</td>\n",
       "      <td>0</td>\n",
       "      <td>0</td>\n",
       "      <td>0</td>\n",
       "      <td>0</td>\n",
       "      <td>0</td>\n",
       "      <td>0</td>\n",
       "      <td>0</td>\n",
       "      <td>0</td>\n",
       "      <td>0</td>\n",
       "      <td>0</td>\n",
       "      <td>0</td>\n",
       "      <td>1</td>\n",
       "      <td>0</td>\n",
       "      <td>0</td>\n",
       "      <td>0</td>\n",
       "    </tr>\n",
       "  </tbody>\n",
       "</table>\n",
       "</div>"
      ],
      "text/plain": [
       "   goal_1  goal_2  goal_3  goal_4  goal_5  goal_6  goal_7  goal_8  goal_9  \\\n",
       "0       0       0       0       0       0       0       0       0       0   \n",
       "\n",
       "   goal_10  goal_11  goal_12  goal_13  goal_14  goal_15  goal_16  goal_17  \n",
       "0        0        0        0        0        1        0        0        0  "
      ]
     },
     "execution_count": 150,
     "metadata": {},
     "output_type": "execute_result"
    }
   ],
   "source": [
    "ohe_goals_relx.head(1)"
   ]
  },
  {
   "cell_type": "markdown",
   "metadata": {},
   "source": [
    "#### Content"
   ]
  },
  {
   "cell_type": "code",
   "execution_count": 172,
   "metadata": {},
   "outputs": [
    {
     "data": {
      "text/plain": [
       "\"Achieving the United Nations’ 17\\xa0Sustainable Development\\xa0Goals (SDGs) results in many ecological, social, and economic consequences that are inter-related. Understanding relationships between sustainability goals and determining their interactions can help prioritize effective and efficient policy options. This paper presents a framework that integrates existing knowledge from literature and expert opinions to rapidly assess the relationships between one SDG goal and another. Specifically, given the important role of the oceans in the world's social-ecological systems, this study focuses on how SDG 14 (Life Below Water), and the targets within that goal, contributes to other SDG goals. This framework differentiates relationships based on compatibility (co-benefit, trade-off, neutral), the optional nature of achieving one goal in attaining another, and whether these relationships are context dependent. The results from applying this framework indicate that oceans SDG targets are related to all other SDG goals, with two ocean targets (of seven in total) most related across all other SDG goals. Firstly, the ocean SDG target to increase economic benefits to Small Island Developing States (SIDS) and least developed countries for sustainable marine uses has positive relationships across all SDGs. Secondly, the ocean SDG target to eliminate\\xa0overfishing, illegal and destructive fishing practices is a necessary pre-condition for achieving the largest number of other SDG targets. This study highlights the importance of the oceans in achieving sustainable development. The rapid assessment framework can be applied to other SDGs to comprehensively map out the subset of targets that are also pivotal in achieving sustainable development.\""
      ]
     },
     "execution_count": 172,
     "metadata": {},
     "output_type": "execute_result"
    }
   ],
   "source": [
    "content_relx = relx_df['content'].values\n",
    "content_relx[0]"
   ]
  },
  {
   "cell_type": "markdown",
   "metadata": {},
   "source": [
    "Looks like there's a fair amount of special characters here. Let's get rid of 'em."
   ]
  },
  {
   "cell_type": "code",
   "execution_count": 173,
   "metadata": {},
   "outputs": [],
   "source": [
    "content_relx = [re.sub(r'[^\\x00-\\x7f]',r' ', cr) for cr in content_relx]\n",
    "content_relx = [re.sub(' +', ' ', cr).strip() for cr in content_relx]"
   ]
  },
  {
   "cell_type": "markdown",
   "metadata": {},
   "source": [
    "## 3. Joining and Exporting"
   ]
  },
  {
   "cell_type": "code",
   "execution_count": 199,
   "metadata": {},
   "outputs": [],
   "source": [
    "partner_clean_df = pd.DataFrame({'content': content_partnership,\n",
    "                                 'source': 'un_sdg_partnerships'})\n",
    "relx_clean_df = pd.DataFrame({'content': content_relx,\n",
    "                              'source': 'relx'})\n",
    "\n",
    "partner_clean_df = partner_clean_df.join(ohe_goals_partner)\n",
    "relx_clean_df = relx_clean_df.join(ohe_goals_relx)"
   ]
  },
  {
   "cell_type": "code",
   "execution_count": 204,
   "metadata": {},
   "outputs": [],
   "source": [
    "clean_df = pd.concat([partner_clean_df, relx_clean_df])"
   ]
  },
  {
   "cell_type": "code",
   "execution_count": 226,
   "metadata": {},
   "outputs": [
    {
     "name": "stdout",
     "output_type": "stream",
     "text": [
      "Number of projects: 2228\n"
     ]
    }
   ],
   "source": [
    "print(\"Number of projects:\", len(clean_df))"
   ]
  },
  {
   "cell_type": "code",
   "execution_count": 227,
   "metadata": {},
   "outputs": [
    {
     "name": "stdout",
     "output_type": "stream",
     "text": [
      "Number of projects for each goal:\n",
      "goal_1    192\n",
      "goal_2    178\n",
      "goal_3    250\n",
      "goal_4    514\n",
      "goal_5    345\n",
      "goal_6    142\n",
      "goal_7    356\n",
      "goal_8    530\n",
      "goal_9    132\n",
      "goal_10   104\n",
      "goal_11   182\n",
      "goal_12   176\n",
      "goal_13   275\n",
      "goal_14   186\n",
      "goal_15   138\n",
      "goal_16   133\n",
      "goal_17   353\n"
     ]
    }
   ],
   "source": [
    "print(\"Number of projects for each goal:\")\n",
    "for c in clean_df.columns:\n",
    "    if 'goal_' in c:\n",
    "        print('{:7} {:>5}'.format(c, sum(clean_df[c])))"
   ]
  },
  {
   "cell_type": "code",
   "execution_count": 229,
   "metadata": {},
   "outputs": [],
   "source": [
    "clean_df.to_csv(os.path.join(inter_data, 'sdg_projects_and_goals.csv'), index=False)"
   ]
  }
 ],
 "metadata": {
  "kernelspec": {
   "display_name": "Python 3",
   "language": "python",
   "name": "python3"
  },
  "language_info": {
   "codemirror_mode": {
    "name": "ipython",
    "version": 3
   },
   "file_extension": ".py",
   "mimetype": "text/x-python",
   "name": "python",
   "nbconvert_exporter": "python",
   "pygments_lexer": "ipython3",
   "version": "3.6.1"
  }
 },
 "nbformat": 4,
 "nbformat_minor": 2
}
